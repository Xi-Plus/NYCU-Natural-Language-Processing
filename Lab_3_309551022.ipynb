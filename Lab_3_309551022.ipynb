{
  "nbformat": 4,
  "nbformat_minor": 0,
  "metadata": {
    "colab": {
      "name": "Lab_3_309551022.ipynb",
      "provenance": [],
      "collapsed_sections": []
    },
    "kernelspec": {
      "name": "python3",
      "display_name": "Python 3"
    }
  },
  "cells": [
    {
      "cell_type": "markdown",
      "metadata": {
        "id": "mRNhSK7LgEIS"
      },
      "source": [
        "## Components of an HMM\n",
        "An HMM has three sets of trainable parameters.\n",
        "\n",
        "<img src=\"https://ppt.cc/fOUtex@.png\" alt=\"drawing\" width=\"500\"/>\n"
      ]
    },
    {
      "cell_type": "markdown",
      "metadata": {
        "id": "7Pu3zm77vXwp"
      },
      "source": [
        "- The **transition model** is a square matrix $A$, where $A_{s', s}$ represents $p(z_t = s'|z_{t-1} = s)$, the probability of jumping from state $s$ to state $s'$. \n",
        "\n",
        "- The **emission model** $b_s(x_t)$ tells us $p(x_t|z_t = s)$, the probability of generating $x_t$ when the system is in state $s$. For discrete observations, the emission model is just a lookup table, with one row for each state, and one column for each observation. \n",
        "\n",
        "- The **state priors** tell us $p(z_1 = s)$, the probability of starting in state $s$. We use $\\pi$ to denote the vector of state priors, so $\\pi_s$ is the state prior for state $s$."
      ]
    },
    {
      "cell_type": "code",
      "metadata": {
        "id": "aZbW6Pj0og7K"
      },
      "source": [
        "import string\n",
        "import numpy as np\n",
        "import matplotlib.pyplot as plt\n",
        "import seaborn as sns\n",
        "import torch\n",
        "sns.set_theme()\n",
        "\n",
        "class HMM(torch.nn.Module):\n",
        "  \"\"\"\n",
        "  Hidden Markov Model with discrete observations.\n",
        "  \"\"\"\n",
        "  def __init__(self, M, N):\n",
        "    super(HMM, self).__init__()\n",
        "    self.M = M # number of possible observations\n",
        "    self.N = N # number of states\n",
        "\n",
        "    # A\n",
        "    self.transition_model = TransitionModel(self.N)\n",
        "\n",
        "    # b(x_t)\n",
        "    self.emission_model = EmissionModel(self.N,self.M)\n",
        "\n",
        "    # pi\n",
        "    self.unnormalized_state_priors = torch.nn.Parameter(torch.randn(self.N))\n",
        "\n",
        "class TransitionModel(torch.nn.Module):\n",
        "  def __init__(self, N):\n",
        "    super(TransitionModel, self).__init__()\n",
        "    self.N = N\n",
        "    self.unnormalized_transition_matrix = torch.nn.Parameter(torch.randn(N,N))\n",
        "\n",
        "class EmissionModel(torch.nn.Module):\n",
        "  def __init__(self, N, M):\n",
        "    super(EmissionModel, self).__init__()\n",
        "    self.N = N\n",
        "    self.M = M\n",
        "    self.unnormalized_emission_matrix = torch.nn.Parameter(torch.randn(N,M))"
      ],
      "execution_count": 102,
      "outputs": []
    },
    {
      "cell_type": "markdown",
      "metadata": {
        "id": "eom3ueYtpXGo"
      },
      "source": [
        "## Sample Function\n",
        "To sample from the HMM, we start by picking a random initial state from the state prior distribution.\n",
        "\n",
        "Then, we sample an output from the emission distribution, sample a transition from the transition distribution, and repeat.\n",
        "\n",
        "(Notice that we pass the unnormalized model parameters through a softmax function to make them into probabilities.)\n"
      ]
    },
    {
      "cell_type": "code",
      "metadata": {
        "id": "BpgkwNyVwmyM"
      },
      "source": [
        "def sample(self, T=10):\n",
        "  # Pass the parameters with softmax layer to get probability\n",
        "  state_priors = torch.nn.functional.softmax(self.unnormalized_state_priors, dim=0)\n",
        "  transition_matrix = torch.nn.functional.softmax(self.transition_model.unnormalized_transition_matrix, dim=0)\n",
        "  emission_matrix = torch.nn.functional.softmax(self.emission_model.unnormalized_emission_matrix, dim=1)\n",
        "\n",
        "  # sample initial state\n",
        "  z_t = torch.distributions.categorical.Categorical(state_priors).sample().item()\n",
        "  z = []; x = []\n",
        "  z.append(z_t)\n",
        "  for t in range(0,T):\n",
        "    # print('state_priors', state_priors)\n",
        "    # print('transition_matrix', transition_matrix)\n",
        "    # print('emission_matrix', emission_matrix[z_t])\n",
        "    # print('z_t', z_t)\n",
        "    # sample emission\n",
        "    ########## [TODO](Hint: use emission matrix) ##########\n",
        "    # temp = torch.matmul(state_priors, emission_matrix)\n",
        "    # print('temp', temp)\n",
        "    x_t = torch.distributions.categorical.Categorical(emission_matrix[z_t]).sample().item()\n",
        "    #############################\n",
        "    x.append(x_t)\n",
        "\n",
        "    # sample transition\n",
        "    ########## [TODO](Hint: use transition matrix) ##########\n",
        "    state_priors = transition_matrix[z_t]\n",
        "    z_t = torch.distributions.categorical.Categorical(state_priors).sample().item()\n",
        "    #############################\n",
        "    if t < T-1: z.append(z_t)\n",
        "\n",
        "  return x, z\n",
        "\n",
        "# Add the sampling method to our HMM class\n",
        "HMM.sample = sample"
      ],
      "execution_count": 103,
      "outputs": []
    },
    {
      "cell_type": "code",
      "metadata": {
        "colab": {
          "base_uri": "https://localhost:8080/"
        },
        "id": "JCmPjCIlcpaD",
        "outputId": "2305f508-fa07-4efe-ee8c-40c404b2399d"
      },
      "source": [
        "HMM(5, 2).sample()"
      ],
      "execution_count": 104,
      "outputs": [
        {
          "output_type": "execute_result",
          "data": {
            "text/plain": [
              "([1, 3, 3, 0, 3, 4, 0, 3, 0, 3], [0, 1, 1, 0, 1, 0, 0, 1, 0, 1])"
            ]
          },
          "metadata": {
            "tags": []
          },
          "execution_count": 104
        }
      ]
    },
    {
      "cell_type": "markdown",
      "metadata": {
        "id": "ohsdYScawkRG"
      },
      "source": [
        "## Set Model Parameters\n",
        "\n",
        "Assume that the system has one state for generating vowels and one state for generating consonants, and the transition matrix has 0s on the diagonal. In other words, the system cannot stay in the vowel state or the consonant state for more than one timestep.\n",
        "\n",
        "Since we pass the transition matrix through a softmax, to get 0s you should set the unnormalized parameter values to $-\\infty$."
      ]
    },
    {
      "cell_type": "code",
      "metadata": {
        "id": "eyR7yv_3sBG3",
        "colab": {
          "base_uri": "https://localhost:8080/",
          "height": 805
        },
        "outputId": "a6ca1d50-7091-4c0c-b568-162d840e9e5d"
      },
      "source": [
        "# Initialize the model\n",
        "# The parameters are actually trainable with EM algorithm,\n",
        "# but we do not implement it in this lab.\n",
        "alphabet = string.ascii_lowercase\n",
        "model = HMM(M=len(alphabet), N=2) \n",
        "for p in model.parameters():\n",
        "    p.requires_grad = False \n",
        "\n",
        "# Let state 0 = consonant, state 1 = vowel\n",
        "sns.set(rc={'figure.figsize':(5,4)})\n",
        "########## [TODO] (Hint: consider prior) ##########\n",
        "model.unnormalized_state_priors = torch.nn.Parameter(torch.tensor(\n",
        "    [1, 0],\n",
        "    dtype=torch.float64\n",
        "), requires_grad=False)\n",
        "###################################################\n",
        "print(\"State priors:\")\n",
        "sns.heatmap(torch.nn.functional.softmax(model.unnormalized_state_priors, dim=0).unsqueeze(-1).numpy(),\n",
        "            xticklabels=False,\n",
        "            yticklabels=['consonant','vowel'],\n",
        "            annot=True)\n",
        "plt.show()\n",
        "\n",
        "\n",
        "# In state 0, only allow consonants; in state 1, only allow vowels\n",
        "sns.set(rc={'figure.figsize':(24,4)})\n",
        "########## [TODO] (Hint: consider emission_model) ##########\n",
        "data = [np.random.random(model.M), [-np.inf for i in range(model.M)]]\n",
        "for c in 'aeiou':\n",
        "  idx = string.ascii_lowercase.index(c)\n",
        "  data[0][idx] = -np.inf\n",
        "  data[1][idx] = np.random.random()\n",
        "model.emission_model.unnormalized_emission_matrix = torch.nn.Parameter(torch.tensor(\n",
        "    data,\n",
        "    dtype=torch.float64\n",
        "), requires_grad=False)\n",
        "############################################################\n",
        "print(\"Emission matrix:\")\n",
        "sns.heatmap(torch.nn.functional.softmax(model.emission_model.unnormalized_emission_matrix, dim=1).numpy(),\n",
        "            xticklabels=['a','b','c','d','e','f','g','h','i','j','k','l','m','n','o','p','q','r','s','t','u','v','w','x','y','z'],\n",
        "            yticklabels=['consonant','vowel'],\n",
        "            annot=True)\n",
        "plt.show()\n",
        "\n",
        "\n",
        "# Only allow vowel -> consonant and consonant -> vowel\n",
        "sns.set(rc={'figure.figsize':(5,4)})\n",
        "########## [TODO] (Hint: consider transition model) ##########\n",
        "model.transition_model.unnormalized_transition_matrix = torch.nn.Parameter(torch.tensor(\n",
        "    [[-np.inf, 1], [1, -np.inf]],\n",
        "    dtype=torch.float64\n",
        "), requires_grad=False)\n",
        "#####################################################\n",
        "print(\"Transition matrix:\")\n",
        "sns.heatmap(torch.nn.functional.softmax(model.transition_model.unnormalized_transition_matrix, dim=0).numpy(),\n",
        "            xticklabels=['consonant','vowel'],\n",
        "            yticklabels=['consonant','vowel'],\n",
        "            annot=True)\n",
        "plt.show()"
      ],
      "execution_count": 105,
      "outputs": [
        {
          "output_type": "stream",
          "text": [
            "State priors:\n"
          ],
          "name": "stdout"
        },
        {
          "output_type": "display_data",
          "data": {
            "image/png": "[encoded data removed]",
            "text/plain": [
              "<Figure size 360x288 with 2 Axes>"
            ]
          },
          "metadata": {
            "tags": []
          }
        },
        {
          "output_type": "stream",
          "text": [
            "Emission matrix:\n"
          ],
          "name": "stdout"
        },
        {
          "output_type": "display_data",
          "data": {
            "image/png": "[encoded data removed]",
            "text/plain": [
              "<Figure size 1728x288 with 2 Axes>"
            ]
          },
          "metadata": {
            "tags": []
          }
        },
        {
          "output_type": "stream",
          "text": [
            "Transition matrix:\n"
          ],
          "name": "stdout"
        },
        {
          "output_type": "display_data",
          "data": {
            "image/png": "[encoded data removed]",
            "text/plain": [
              "<Figure size 360x288 with 2 Axes>"
            ]
          },
          "metadata": {
            "tags": []
          }
        }
      ]
    },
    {
      "cell_type": "markdown",
      "metadata": {
        "id": "KFaYq8jDttmi"
      },
      "source": [
        "## Sample Fake Words"
      ]
    },
    {
      "cell_type": "code",
      "metadata": {
        "id": "8latFMD7ua0X",
        "colab": {
          "base_uri": "https://localhost:8080/"
        },
        "outputId": "9afcd36b-2e21-427a-ed03-e70fc71c1e11"
      },
      "source": [
        "def encode(s):\n",
        "  \"\"\"\n",
        "  Convert a string into a list of integers\n",
        "  \"\"\"\n",
        "  x = [alphabet.index(ss) for ss in s]\n",
        "  return x\n",
        "\n",
        "def decode(x):\n",
        "  \"\"\"\n",
        "  Convert list of ints to string\n",
        "  \"\"\"\n",
        "  s = \"\".join([alphabet[xx] for xx in x])\n",
        "  return s\n",
        "\n",
        "# Sample some outputs\n",
        "for _ in range(4):\n",
        "  sampled_x, sampled_z = model.sample(T=5)\n",
        "  print(\"x:\", decode(sampled_x))\n",
        "  print(\"z:\", sampled_z)"
      ],
      "execution_count": 117,
      "outputs": [
        {
          "output_type": "stream",
          "text": [
            "x: qevum\n",
            "z: [0, 1, 0, 1, 0]\n",
            "x: nedah\n",
            "z: [0, 1, 0, 1, 0]\n",
            "x: xanoy\n",
            "z: [0, 1, 0, 1, 0]\n",
            "x: ezome\n",
            "z: [1, 0, 1, 0, 1]\n"
          ],
          "name": "stdout"
        }
      ]
    }
  ]
}